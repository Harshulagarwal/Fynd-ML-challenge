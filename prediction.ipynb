{
 "cells": [
  {
   "cell_type": "code",
   "execution_count": 1,
   "metadata": {
    "collapsed": true
   },
   "outputs": [],
   "source": [
    "import numpy as np\n",
    "import urllib\n",
    "import cv2\n",
    "import pandas as pd "
    "import os\n",
    "from keras.preprocessing.image import img_to_array\n",
   ]
  },
  {
   "cell_type": "code",
   "execution_count": null,
   "metadata": {
    "collapsed": false
   },
   "outputs": [],
   "source": [
    "from keras.models import load_model\n",
    "model=load_model('weights-improvement-13-0.89.hdf5')"
   ]
  },  
  {
   "cell_type": "code",
   "execution_count": null,
   "metadata": {
    "collapsed": true
   },
   "outputs": [],
   "source": [
    "list1=['zipper','backstrap', 'slip_on', 'lace_up', 'buckle', 'hook&look']\n",
    "predicted_class=[]\n",
    "inputdata=pd.read_csv('input.csv')\n",
    "for i in range(len(inputdata.view_1)):\n",
    "    urllib.urlretrieve (inputdata.view_1[i], str(\"img.jpg\"))\n",
    "    j=cv2.imread('img.jpg')\n",
    "    j=cv2.resize(j,(224,224))\n",
    "    j= j.astype(\"float\") / 255.0\n",
    "    ima = img_to_array(j)\n",
    "    ima = np.expand_dims(ima, axis=0)\n",
    "    pred = model.predict(ima)[0]\n",
    "    predicted_classes = np.argmax(pred)+1\n",
    "    if(predicted_classes==1):\n",
    "        predicted_class.append(list1[0])\n",
    "    if(predicted_classes==2):\n",
    "        predicted_class.append(list1[1])\n",
    "    if(predicted_classes==3):\n",
    "        predicted_class.append(list1[2])\n",
    "    if(predicted_classes==4):\n",
    "        predicted_class.append(list1[3])\n",
    "    if(predicted_classes==5):\n",
    "        predicted_class.append(list1[4])\n",
    "    if(predicted_classes==6):\n",
    "        predicted_class.append(list1[5])"
   ]
  },
  {
   "cell_type": "code",
   "execution_count": null,
   "metadata": {
    "collapsed": true
   },
   "outputs": [],
   "source": [
    "\n",
    "submissions=pd.DataFrame({\"ImageId\": data.id,\n",
    "                         \"Label\": predicted_class})\n",
    "submissions.to_csv(\"input.csv\", index=False, header=True)"
   ]
  }
 ],
 "metadata": {
  "kernelspec": {
   "display_name": "Python 2",
   "language": "python",
   "name": "python2"
  },
  "language_info": {
   "codemirror_mode": {
    "name": "ipython",
    "version": 2
   },
   "file_extension": ".py",
   "mimetype": "text/x-python",
   "name": "python",
   "nbconvert_exporter": "python",
   "pygments_lexer": "ipython2",
   "version": "2.7.13"
  }
 },
 "nbformat": 4,
 "nbformat_minor": 0
}
