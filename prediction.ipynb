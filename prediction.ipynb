{
 "cells": [
  {
   "cell_type": "code",
   "execution_count": 1,
   "metadata": {
    "collapsed": true
   },
   "outputs": [],
   "source": [
    "import numpy as np\n",
    "import urllib\n",
    "import cv2\n",
    "import pandas as pd "
   ]
  },
  {
   "cell_type": "code",
   "execution_count": null,
   "metadata": {
    "collapsed": false
   },
   "outputs": [],
   "source": [
    "from keras.models import load_model\n",
    "model=load_model('weights-improvement-13-0.89.hdf5')"
   ]
  },
  {
   "cell_type": "code",
   "execution_count": null,
   "metadata": {
    "collapsed": true
   },
   "outputs": [],
   "source": [
    "import cv2\n",
    "import os\n",
    "from keras.preprocessing.image import img_to_array\n",
    "a=[0,0,0,0,0,0]\n",
    "b=[0,0,0,0,0,0]\n",
    "c=[0,0,0,0,0,0]\n",
    "d=[0,0,0,0,0,0]\n",
    "e=[0,0,0,0,0,0]\n",
    "f=[0,0,0,0,0,0]\n",
    "total=0\n",
    "for j in os.listdir('test/1'):\n",
    "    j=cv2.imread('test/1/'+str(j))\n",
    "    j=cv2.resize(j,(224,224))\n",
    "    j= j.astype(\"float\") / 255.0\n",
    "    ima = img_to_array(j)\n",
    "    ima = np.expand_dims(ima, axis=0)\n",
    "    pred = model.predict(ima)[0]\n",
    "    predicted_classes = np.argmax(pred)+1\n",
    "    if(predicted_classes==1):\n",
    "        a[0]=a[0]+1\n",
    "    if(predicted_classes==2):\n",
    "        a[1]=a[1]+1\n",
    "    if(predicted_classes==3):\n",
    "        a[2]=a[2]+1\n",
    "    if(predicted_classes==4):\n",
    "        a[3]=a[3]+1\n",
    "    if(predicted_classes==5):\n",
    "        a[4]=a[4]+1\n",
    "    if(predicted_classes==6):\n",
    "        a[5]=a[5]+1\n",
    "    total=total+1                    \n",
    "    \n",
    "for j in os.listdir('test/2'):\n",
    "    j=cv2.imread('test/2/'+str(j))\n",
    "    j=cv2.resize(j,(224,224))\n",
    "    j= j.astype(\"float\") / 255.0\n",
    "    ima = img_to_array(j)\n",
    "    ima = np.expand_dims(ima, axis=0)\n",
    "    pred = model.predict(ima)[0]\n",
    "    predicted_classes = np.argmax(pred)+1\n",
    "    if(predicted_classes==1):\n",
    "        b[0]=b[0]+1\n",
    "    if(predicted_classes==2):\n",
    "        b[1]=b[1]+1\n",
    "    if(predicted_classes==3):\n",
    "        b[2]=b[2]+1\n",
    "    if(predicted_classes==4):\n",
    "        b[3]=b[3]+1\n",
    "    if(predicted_classes==5):\n",
    "        b[4]=b[4]+1\n",
    "    if(predicted_classes==6):\n",
    "        b[5]=b[5]+1\n",
    "    total=total+1                    \n",
    "        \n",
    "        \n",
    "        \n",
    "for j in os.listdir('test/3'):\n",
    "    j=cv2.imread('test/3/'+str(j))\n",
    "    j=cv2.resize(j,(224,224))\n",
    "    j= j.astype(\"float\") / 255.0\n",
    "    ima = img_to_array(j)\n",
    "    ima = np.expand_dims(ima, axis=0)\n",
    "    pred = model.predict(ima)[0]\n",
    "    predicted_classes = np.argmax(pred)+1\n",
    "    if(predicted_classes==1):\n",
    "        c[0]=c[0]+1\n",
    "    if(predicted_classes==2):\n",
    "        c[1]=c[1]+1\n",
    "    if(predicted_classes==3):\n",
    "        c[2]=c[2]+1\n",
    "    if(predicted_classes==4):\n",
    "        c[3]=c[3]+1\n",
    "    if(predicted_classes==5):\n",
    "        c[4]=c[4]+1\n",
    "    if(predicted_classes==6):\n",
    "        c[5]=c[5]+1\n",
    "    total=total+1                    \n",
    "        \n",
    "for j in os.listdir('test/4'):\n",
    "    j=cv2.imread('test/4/'+str(j))\n",
    "    j=cv2.resize(j,(224,224))\n",
    "    j= j.astype(\"float\") / 255.0\n",
    "    ima = img_to_array(j)\n",
    "    ima = np.expand_dims(ima, axis=0)\n",
    "    pred = model.predict(ima)[0]\n",
    "    predicted_classes = np.argmax(pred)+1\n",
    "    if(predicted_classes==1):\n",
    "        d[0]=d[0]+1\n",
    "    if(predicted_classes==2):\n",
    "        d[1]=d[1]+1\n",
    "    if(predicted_classes==3):\n",
    "        d[2]=d[2]+1\n",
    "    if(predicted_classes==4):\n",
    "        d[3]=d[3]+1\n",
    "    if(predicted_classes==5):\n",
    "        d[4]=d[4]+1\n",
    "    if(predicted_classes==6):\n",
    "        d[5]=d[5]+1\n",
    "    total=total+1                    \n",
    "        \n",
    "        \n",
    "for j in os.listdir('test/5'):\n",
    "    j=cv2.imread('test/5/'+str(j))\n",
    "    j=cv2.resize(j,(224,224))\n",
    "    j= j.astype(\"float\") / 255.0\n",
    "    ima = img_to_array(j)\n",
    "    ima = np.expand_dims(ima, axis=0)\n",
    "    pred = model.predict(ima)[0]\n",
    "    predicted_classes = np.argmax(pred)+1\n",
    "    if(predicted_classes==1):\n",
    "        e[0]=e[0]+1\n",
    "    if(predicted_classes==2):\n",
    "        e[1]=e[1]+1\n",
    "    if(predicted_classes==3):\n",
    "        e[2]=e[2]+1\n",
    "    if(predicted_classes==4):\n",
    "        e[3]=e[3]+1\n",
    "    if(predicted_classes==5):\n",
    "        e[4]=e[4]+1\n",
    "    if(predicted_classes==6):\n",
    "        e[5]=e[5]+1\n",
    "    total=total+1            \n",
    "for j in os.listdir('test/6'):\n",
    "    j=cv2.imread('test/6/'+str(j))\n",
    "    j=cv2.resize(j,(224,224))\n",
    "    j= j.astype(\"float\") / 255.0\n",
    "    ima = img_to_array(j)\n",
    "    ima = np.expand_dims(ima, axis=0)\n",
    "    pred = model.predict(ima)[0]\n",
    "    predicted_classes = np.argmax(pred)+1\n",
    "    if(predicted_classes==1):\n",
    "        f[0]=f[0]+1\n",
    "    if(predicted_classes==2):\n",
    "        f[1]=f[1]+1\n",
    "    if(predicted_classes==3):\n",
    "        f[2]=f[2]+1\n",
    "    if(predicted_classes==4):\n",
    "        f[3]=f[3]+1\n",
    "    if(predicted_classes==5):\n",
    "        f[4]=f[4]+1\n",
    "    if(predicted_classes==6):\n",
    "        f[5]=f[5]+1\n",
    "    total=total+1            "
   ]
  },
  {
   "cell_type": "code",
   "execution_count": null,
   "metadata": {
    "collapsed": true
   },
   "outputs": [],
   "source": [
    "print(a,b,c,d,e,f)"
   ]
  },
  {
   "cell_type": "code",
   "execution_count": null,
   "metadata": {
    "collapsed": true
   },
   "outputs": [],
   "source": [
    "acc=(a[0]+b[1]+c[2]+d[3]+e[4]+f[5])*100/total\n",
    "print(acc)"
   ]
  },
  {
   "cell_type": "code",
   "execution_count": null,
   "metadata": {
    "collapsed": true
   },
   "outputs": [],
   "source": [
    "list1=['zipper','backstrap', 'slip_on', 'lace_up', 'buckle', 'hook&look']\n",
    "predicted_class=[]\n",
    "inputdata=pd.read_csv('input.csv')\n",
    "for i in range(len(inputdata.view_1)):\n",
    "    urllib.urlretrieve (inputdata.view_1[i], str(\"img.jpg\"))\n",
    "    j=cv2.imread('img.jpg')\n",
    "    j=cv2.resize(j,(224,224))\n",
    "    j= j.astype(\"float\") / 255.0\n",
    "    ima = img_to_array(j)\n",
    "    ima = np.expand_dims(ima, axis=0)\n",
    "    pred = model.predict(ima)[0]\n",
    "    predicted_classes = np.argmax(pred)+1\n",
    "    if(predicted_classes==1):\n",
    "        predicted_class.append(list1[0])\n",
    "    if(predicted_classes==2):\n",
    "        predicted_class.append(list1[1])\n",
    "    if(predicted_classes==3):\n",
    "        predicted_class.append(list1[2])\n",
    "    if(predicted_classes==4):\n",
    "        predicted_class.append(list1[3])\n",
    "    if(predicted_classes==5):\n",
    "        predicted_class.append(list1[4])\n",
    "    if(predicted_classes==6):\n",
    "        predicted_class.append(list1[5])"
   ]
  },
  {
   "cell_type": "code",
   "execution_count": null,
   "metadata": {
    "collapsed": true
   },
   "outputs": [],
   "source": [
    "\n",
    "submissions=pd.DataFrame({\"ImageId\": data.id,\n",
    "                         \"Label\": predicted_class})\n",
    "submissions.to_csv(\"input.csv\", index=False, header=True)"
   ]
  }
 ],
 "metadata": {
  "kernelspec": {
   "display_name": "Python 2",
   "language": "python",
   "name": "python2"
  },
  "language_info": {
   "codemirror_mode": {
    "name": "ipython",
    "version": 2
   },
   "file_extension": ".py",
   "mimetype": "text/x-python",
   "name": "python",
   "nbconvert_exporter": "python",
   "pygments_lexer": "ipython2",
   "version": "2.7.13"
  }
 },
 "nbformat": 4,
 "nbformat_minor": 0
}
